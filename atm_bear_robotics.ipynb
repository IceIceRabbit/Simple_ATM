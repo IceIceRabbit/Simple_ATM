{
  "nbformat": 4,
  "nbformat_minor": 0,
  "metadata": {
    "colab": {
      "name": "Untitled6.ipynb",
      "provenance": []
    },
    "kernelspec": {
      "name": "python3",
      "display_name": "Python 3"
    }
  },
  "cells": [
    {
      "cell_type": "markdown",
      "metadata": {
        "id": "ZsoXjO3M6P_S"
      },
      "source": [
        "Here the class is defined and a few predefined card numbers along with their pins are stored. Note that the squares of the pins are the only things being stored and used for comparison so there is no explicit use of the pins except for user input."
      ]
    },
    {
      "cell_type": "code",
      "metadata": {
        "id": "xW8yII4PbjEh"
      },
      "source": [
        "class ATM:\n",
        "  hash_dict = {'12345678':1234321,'87654321':5499025}  \n",
        "  checking_balances = {'12345678':10,'87654321':50000}\n",
        "  savings_balances = {'12345678':100000,'87654321':5}\n",
        "  def __init__(self,pin_no,card_no):\n",
        "\n",
        "    self._account_types = ['checkings','savings']\n",
        "    self.pin = int(pin_no)\n",
        "    self.card_number = str(card_no)\n",
        "    self.valid = self._validate_pin()\n",
        "    self.card_acc = self._select_account()\n",
        "  def _validate_pin(self):\n",
        "    if(pow(self.pin,2) == self.hash_dict[self.card_number]):\n",
        "      return True\n",
        "    else:\n",
        "      return False\n",
        "\n",
        "  def _select_account(self):\n",
        "    if self.valid:\n",
        "      selection = input(\"Would you like to access checkings? Pressing 'n' will take you to your savings (y/n):\")\n",
        "      print(selection)\n",
        "      if list(selection)[0] == 'y' or list(selection)[0] == 'Y':\n",
        "        return self._account_types[0]\n",
        "      elif list(selection)[0] == 'n' or list(selection)[0] == 'N':\n",
        "        return self._account_types[1]\n",
        "    else:\n",
        "      print(\"invalid PIN\")\n",
        "      return None\n",
        "\n",
        "  def get_balance(self):\n",
        "    if self.card_acc == self._account_types[0]:\n",
        "      print(self.checking_balances[self.card_number])\n",
        "    else:\n",
        "      print(self.savings_balances[self.card_number])\n",
        "  def deposit(self,amt):\n",
        "    if self.card_acc == self._account_types[0]:\n",
        "      self.checking_balances[self.card_number] += amt\n",
        "      print(\"New Balance: \" + str(self.checking_balances[self.card_number]))\n",
        "    else:\n",
        "      self.savings_balances[self.card_number] += amt\n",
        "      print(\"New Balance: \" + str(self.savings_balances[self.card_number]))\n",
        "\n",
        "  def withdraw(self,amt):\n",
        "    if self.card_acc == self._account_types[0]:\n",
        "      if amt < self.checking_balances[self.card_number]:\n",
        "        self.checking_balances[self.card_number] -= amt\n",
        "        print(\"New Balance: \" + str(self.checking_balances[self.card_number]))\n",
        "      else:\n",
        "        print('invalid')\n",
        "    else:\n",
        "      if amt < self.savings_balances[self.card_number]:\n",
        "        self.savings_balances[self.card_number] -= amt\n",
        "        print(\"New Balance: \" + str(self.savings_balances[self.card_number]))\n",
        "      else:\n",
        "        print('invalid')\n",
        "        return\n",
        "\n",
        "\n",
        "\n"
      ],
      "execution_count": 69,
      "outputs": []
    },
    {
      "cell_type": "markdown",
      "metadata": {
        "id": "Gth95ZV558fb"
      },
      "source": [
        "The Following Cell Is used for testing the code. The Prompts guide you through the process using the atm. The stop button is used for terminating the session and the values are updated throughout the use.\n",
        "\n",
        "You need to input the card number and the pin and if it is valid you will get to choose between checkings or savings. Then you will get the options of checking your balance , depositing or withdrawing."
      ]
    },
    {
      "cell_type": "code",
      "metadata": {
        "colab": {
          "base_uri": "https://localhost:8080/",
          "height": 452
        },
        "id": "ABMJqPmYb4uJ",
        "outputId": "d7ba82f0-f667-4290-eb1a-ac3e0a8c4b6a"
      },
      "source": [
        "while(True):\n",
        "  card_no = input(\"Please input your card no: \")\n",
        "  pin_no = input(\"Please input your pin no: \")\n",
        "  user = ATM(pin_no,card_no)\n",
        "  if user.card_acc:\n",
        "    print(\"1 - Balance , 2 - Deposit , 3 - Withdraw\")\n",
        "    choice = int(input(\"Please input 1 , 2 or 3\"))\n",
        "    if choice > 0 and choice < 4: \n",
        "      if choice == 1:\n",
        "        user.get_balance()\n",
        "      elif choice == 2:\n",
        "        amt = int(input(\"Please input a deposit amount(limit 20000): \"))\n",
        "        if amt > 20000 or amt <= 0:\n",
        "          print('Invalid amount')\n",
        "        else:\n",
        "          user.deposit(amt)\n",
        "      elif choice == 3:\n",
        "        amt = int(input(\"Please input a withdrawal amount(limit 20000): \"))\n",
        "        if amt > 20000 or amt <= 0:\n",
        "          print('Invalid amount')\n",
        "        else:\n",
        "          user.withdraw(amt)\n",
        "\n"
      ],
      "execution_count": 71,
      "outputs": [
        {
          "output_type": "stream",
          "text": [
            "Please input your card no: 12345678\n",
            "Please input your pin no: 1111\n",
            "Would you like to access checkings? Pressing 'n' will take you your (y/n):y\n",
            "y\n",
            "1 - Balance , 2 - Deposit , 3 - Withdraw\n",
            "Please input 1 , 2 or 33\n",
            "Please input a withdrawal amount(limit 20000): 10\n"
          ],
          "name": "stdout"
        },
        {
          "output_type": "error",
          "ename": "NameError",
          "evalue": "ignored",
          "traceback": [
            "\u001b[0;31m---------------------------------------------------------------------------\u001b[0m",
            "\u001b[0;31mNameError\u001b[0m                                 Traceback (most recent call last)",
            "\u001b[0;32m<ipython-input-71-90f3a6c8bbda>\u001b[0m in \u001b[0;36m<module>\u001b[0;34m()\u001b[0m\n\u001b[1;32m     20\u001b[0m           \u001b[0mprint\u001b[0m\u001b[0;34m(\u001b[0m\u001b[0;34m'Invalid amount'\u001b[0m\u001b[0;34m)\u001b[0m\u001b[0;34m\u001b[0m\u001b[0;34m\u001b[0m\u001b[0m\n\u001b[1;32m     21\u001b[0m         \u001b[0;32melse\u001b[0m\u001b[0;34m:\u001b[0m\u001b[0;34m\u001b[0m\u001b[0;34m\u001b[0m\u001b[0m\n\u001b[0;32m---> 22\u001b[0;31m           \u001b[0muser\u001b[0m\u001b[0;34m.\u001b[0m\u001b[0mwithdraw\u001b[0m\u001b[0;34m(\u001b[0m\u001b[0mamt\u001b[0m\u001b[0;34m)\u001b[0m\u001b[0;34m\u001b[0m\u001b[0;34m\u001b[0m\u001b[0m\n\u001b[0m\u001b[1;32m     23\u001b[0m \u001b[0;34m\u001b[0m\u001b[0m\n",
            "\u001b[0;32m<ipython-input-69-ef0b96cfed31>\u001b[0m in \u001b[0;36mwithdraw\u001b[0;34m(self, amt)\u001b[0m\n\u001b[1;32m     43\u001b[0m   \u001b[0;32mdef\u001b[0m \u001b[0mwithdraw\u001b[0m\u001b[0;34m(\u001b[0m\u001b[0mself\u001b[0m\u001b[0;34m,\u001b[0m\u001b[0mamt\u001b[0m\u001b[0;34m)\u001b[0m\u001b[0;34m:\u001b[0m\u001b[0;34m\u001b[0m\u001b[0;34m\u001b[0m\u001b[0m\n\u001b[1;32m     44\u001b[0m     \u001b[0;32mif\u001b[0m \u001b[0mself\u001b[0m\u001b[0;34m.\u001b[0m\u001b[0mcard_acc\u001b[0m \u001b[0;34m==\u001b[0m \u001b[0mself\u001b[0m\u001b[0;34m.\u001b[0m\u001b[0m_account_types\u001b[0m\u001b[0;34m[\u001b[0m\u001b[0;36m0\u001b[0m\u001b[0;34m]\u001b[0m\u001b[0;34m:\u001b[0m\u001b[0;34m\u001b[0m\u001b[0;34m\u001b[0m\u001b[0m\n\u001b[0;32m---> 45\u001b[0;31m       \u001b[0;32mif\u001b[0m \u001b[0mamt\u001b[0m \u001b[0;34m<\u001b[0m \u001b[0mself\u001b[0m\u001b[0;34m.\u001b[0m\u001b[0mchecking_balances\u001b[0m\u001b[0;34m[\u001b[0m\u001b[0mcard_number\u001b[0m\u001b[0;34m]\u001b[0m\u001b[0;34m:\u001b[0m\u001b[0;34m\u001b[0m\u001b[0;34m\u001b[0m\u001b[0m\n\u001b[0m\u001b[1;32m     46\u001b[0m         \u001b[0mself\u001b[0m\u001b[0;34m.\u001b[0m\u001b[0mchecking_balances\u001b[0m\u001b[0;34m[\u001b[0m\u001b[0mself\u001b[0m\u001b[0;34m.\u001b[0m\u001b[0mcard_number\u001b[0m\u001b[0;34m]\u001b[0m \u001b[0;34m-=\u001b[0m \u001b[0mamt\u001b[0m\u001b[0;34m\u001b[0m\u001b[0;34m\u001b[0m\u001b[0m\n\u001b[1;32m     47\u001b[0m         \u001b[0mprint\u001b[0m\u001b[0;34m(\u001b[0m\u001b[0;34m\"New Balance: \"\u001b[0m \u001b[0;34m+\u001b[0m \u001b[0mstr\u001b[0m\u001b[0;34m(\u001b[0m\u001b[0mself\u001b[0m\u001b[0;34m.\u001b[0m\u001b[0mchecking_balances\u001b[0m\u001b[0;34m[\u001b[0m\u001b[0mself\u001b[0m\u001b[0;34m.\u001b[0m\u001b[0mcard_number\u001b[0m\u001b[0;34m]\u001b[0m\u001b[0;34m)\u001b[0m\u001b[0;34m)\u001b[0m\u001b[0;34m\u001b[0m\u001b[0;34m\u001b[0m\u001b[0m\n",
            "\u001b[0;31mNameError\u001b[0m: name 'card_number' is not defined"
          ]
        }
      ]
    }
  ]
}